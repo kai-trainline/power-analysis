{
 "cells": [
  {
   "cell_type": "markdown",
   "metadata": {},
   "source": [
    "## Power Analysis Examples for Two Independent Samples with Binary and Continuouse Variables"
   ]
  },
  {
   "cell_type": "markdown",
   "metadata": {},
   "source": [
    "### Part 1: Continuouse Variable \n",
    "Use this when the success metric is continuouse such as transactions, spend, ROAS, new customers, etc. These continuouse variables need to have a time bound to be used as a measurement. e.g. daily trx, weekly trx, monthly trx, yearly trx, etc. \n",
    "\n",
    "When conducting power analysis on these metircs, the number of samples is the number of time bounded measurement you can have. "
   ]
  },
  {
   "cell_type": "code",
   "execution_count": 1,
   "metadata": {},
   "outputs": [],
   "source": [
    "import pandas as pd\n",
    "import numpy as np"
   ]
  },
  {
   "cell_type": "code",
   "execution_count": 2,
   "metadata": {},
   "outputs": [
    {
     "data": {
      "text/html": [
       "<div>\n",
       "<style scoped>\n",
       "    .dataframe tbody tr th:only-of-type {\n",
       "        vertical-align: middle;\n",
       "    }\n",
       "\n",
       "    .dataframe tbody tr th {\n",
       "        vertical-align: top;\n",
       "    }\n",
       "\n",
       "    .dataframe thead th {\n",
       "        text-align: right;\n",
       "    }\n",
       "</style>\n",
       "<table border=\"1\" class=\"dataframe\">\n",
       "  <thead>\n",
       "    <tr style=\"text-align: right;\">\n",
       "      <th></th>\n",
       "      <th>lift</th>\n",
       "      <th>roas_base</th>\n",
       "      <th>roas_test</th>\n",
       "      <th>duration_in_days</th>\n",
       "    </tr>\n",
       "  </thead>\n",
       "  <tbody>\n",
       "    <tr>\n",
       "      <th>0</th>\n",
       "      <td>0.05</td>\n",
       "      <td>61.697579</td>\n",
       "      <td>64.782457</td>\n",
       "      <td>1052.0</td>\n",
       "    </tr>\n",
       "    <tr>\n",
       "      <th>1</th>\n",
       "      <td>0.10</td>\n",
       "      <td>61.697579</td>\n",
       "      <td>67.867336</td>\n",
       "      <td>263.0</td>\n",
       "    </tr>\n",
       "    <tr>\n",
       "      <th>2</th>\n",
       "      <td>0.15</td>\n",
       "      <td>61.697579</td>\n",
       "      <td>70.952215</td>\n",
       "      <td>117.0</td>\n",
       "    </tr>\n",
       "    <tr>\n",
       "      <th>3</th>\n",
       "      <td>0.20</td>\n",
       "      <td>61.697579</td>\n",
       "      <td>74.037094</td>\n",
       "      <td>66.0</td>\n",
       "    </tr>\n",
       "    <tr>\n",
       "      <th>4</th>\n",
       "      <td>0.25</td>\n",
       "      <td>61.697579</td>\n",
       "      <td>77.121973</td>\n",
       "      <td>43.0</td>\n",
       "    </tr>\n",
       "    <tr>\n",
       "      <th>5</th>\n",
       "      <td>0.30</td>\n",
       "      <td>61.697579</td>\n",
       "      <td>80.206852</td>\n",
       "      <td>30.0</td>\n",
       "    </tr>\n",
       "    <tr>\n",
       "      <th>6</th>\n",
       "      <td>0.35</td>\n",
       "      <td>61.697579</td>\n",
       "      <td>83.291731</td>\n",
       "      <td>22.0</td>\n",
       "    </tr>\n",
       "    <tr>\n",
       "      <th>7</th>\n",
       "      <td>0.40</td>\n",
       "      <td>61.697579</td>\n",
       "      <td>86.376610</td>\n",
       "      <td>17.0</td>\n",
       "    </tr>\n",
       "    <tr>\n",
       "      <th>8</th>\n",
       "      <td>0.45</td>\n",
       "      <td>61.697579</td>\n",
       "      <td>89.461489</td>\n",
       "      <td>13.0</td>\n",
       "    </tr>\n",
       "  </tbody>\n",
       "</table>\n",
       "</div>"
      ],
      "text/plain": [
       "   lift  roas_base  roas_test  duration_in_days\n",
       "0  0.05  61.697579  64.782457            1052.0\n",
       "1  0.10  61.697579  67.867336             263.0\n",
       "2  0.15  61.697579  70.952215             117.0\n",
       "3  0.20  61.697579  74.037094              66.0\n",
       "4  0.25  61.697579  77.121973              43.0\n",
       "5  0.30  61.697579  80.206852              30.0\n",
       "6  0.35  61.697579  83.291731              22.0\n",
       "7  0.40  61.697579  86.376610              17.0\n",
       "8  0.45  61.697579  89.461489              13.0"
      ]
     },
     "execution_count": 2,
     "metadata": {},
     "output_type": "execute_result"
    }
   ],
   "source": [
    "df0 = pd.read_csv('data/roas.csv')\n",
    "roas_mean, roas_std = df0['roas'].mean(), df0['roas'].std()\n",
    "lift = [i*0.01 for i in range(5,50,5)]\n",
    "\n",
    "\n",
    "def sample_size(df, col1, col2):\n",
    "    effect_size = abs(df[col1] - df[col2]) / ([roas_std] * len(lift))\n",
    "    sample_size = 2 * (1.96 + 0.84)**2  / effect_size**2\n",
    "    return np.ceil(sample_size)\n",
    "\n",
    "df = pd.DataFrame(lift, columns=['lift'])\n",
    "df['roas_base'] = [roas_mean for i in range(len(lift))]\n",
    "df['roas_test'] = df['roas_base']*(1+df['lift'])\n",
    "df['duration_in_days'] = sample_size(df, 'roas_base', 'roas_test')\n",
    "df"
   ]
  },
  {
   "cell_type": "markdown",
   "metadata": {},
   "source": [
    "### Part 2: Binary Variable \n",
    "Use this when the success metric is binary as measured by percentage such as conversion rate, head rate when flip a coin. \n",
    "\n",
    "When conducting power analysis on binary metircs, the number of samples is the number of events that need to occur. E.g. for conversion rate (definited as number of visitors who made a purchase divided by total number of visitors), the minimum sample is the number of visitors. "
   ]
  },
  {
   "cell_type": "code",
   "execution_count": null,
   "metadata": {},
   "outputs": [],
   "source": []
  }
 ],
 "metadata": {
  "kernelspec": {
   "display_name": "Python 3",
   "language": "python",
   "name": "python3"
  },
  "language_info": {
   "codemirror_mode": {
    "name": "ipython",
    "version": 3
   },
   "file_extension": ".py",
   "mimetype": "text/x-python",
   "name": "python",
   "nbconvert_exporter": "python",
   "pygments_lexer": "ipython3",
   "version": "3.9.6"
  }
 },
 "nbformat": 4,
 "nbformat_minor": 2
}
